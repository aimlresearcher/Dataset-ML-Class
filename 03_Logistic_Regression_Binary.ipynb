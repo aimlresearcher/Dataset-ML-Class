{
  "nbformat": 4,
  "nbformat_minor": 0,
  "metadata": {
    "colab": {
      "provenance": [],
      "authorship_tag": "ABX9TyPb5VE86rn9Az2ZmyNb7FOV",
      "include_colab_link": true
    },
    "kernelspec": {
      "name": "python3",
      "display_name": "Python 3"
    },
    "language_info": {
      "name": "python"
    }
  },
  "cells": [
    {
      "cell_type": "markdown",
      "metadata": {
        "id": "view-in-github",
        "colab_type": "text"
      },
      "source": [
        "<a href=\"https://colab.research.google.com/github/aimlresearcher/Dataset-ML-Class/blob/main/03_Logistic_Regression_Binary.ipynb\" target=\"_parent\"><img src=\"https://colab.research.google.com/assets/colab-badge.svg\" alt=\"Open In Colab\"/></a>"
      ]
    },
    {
      "cell_type": "markdown",
      "source": [
        "## Step 1: Import Required Libraries"
      ],
      "metadata": {
        "id": "LEF-wETAqWMJ"
      }
    },
    {
      "cell_type": "code",
      "execution_count": 9,
      "metadata": {
        "id": "onf4qiQvqFKX"
      },
      "outputs": [],
      "source": [
        "import pandas as pd\n",
        "import numpy as np\n",
        "import matplotlib.pyplot as plt\n",
        "from sklearn.model_selection import train_test_split\n",
        "from sklearn.linear_model import LogisticRegression\n",
        "import math\n"
      ]
    },
    {
      "cell_type": "markdown",
      "source": [
        "## Step 2: Load Dataset"
      ],
      "metadata": {
        "id": "7HH89tnSqbXg"
      }
    },
    {
      "cell_type": "code",
      "source": [
        "# Load dataset\n",
        "df = pd.read_csv(\"https://raw.githubusercontent.com/aimlresearcher/Dataset-ML-Class/refs/heads/main/insurance_data.csv\")\n",
        "\n",
        "# Display first 5 rows\n",
        "print(\"Dataset Preview:\\n\", df.head())\n"
      ],
      "metadata": {
        "colab": {
          "base_uri": "https://localhost:8080/"
        },
        "id": "VfuzWx7wqZAp",
        "outputId": "928dcd31-4a4e-47d6-c6d4-6cb65be22a8e"
      },
      "execution_count": 10,
      "outputs": [
        {
          "output_type": "stream",
          "name": "stdout",
          "text": [
            "Dataset Preview:\n",
            "    age  bought_insurance\n",
            "0   22                 0\n",
            "1   25                 0\n",
            "2   47                 1\n",
            "3   52                 0\n",
            "4   46                 1\n"
          ]
        }
      ]
    },
    {
      "cell_type": "markdown",
      "source": [
        "## Step 3: Visualizing Data"
      ],
      "metadata": {
        "id": "7d4s28Eprcxg"
      }
    },
    {
      "cell_type": "code",
      "source": [
        "# Plotting the data\n",
        "plt.scatter(df.age, df.bought_insurance, marker='+', color='red', label=\"Data Points\")\n",
        "plt.xlabel(\"Age\")\n",
        "plt.ylabel(\"Bought Insurance (0=No, 1=Yes)\")\n",
        "plt.title(\"Insurance Purchase Based on Age\")\n",
        "plt.legend()\n",
        "plt.show()"
      ],
      "metadata": {
        "colab": {
          "base_uri": "https://localhost:8080/",
          "height": 472
        },
        "id": "FAHZWkWbqqdB",
        "outputId": "7f1134cc-67be-4ec2-873f-a319213c6d0d"
      },
      "execution_count": 11,
      "outputs": [
        {
          "output_type": "display_data",
          "data": {
            "text/plain": [
              "<Figure size 640x480 with 1 Axes>"
            ],
            "image/png": "[encoded data removed]"
          },
          "metadata": {}
        }
      ]
    },
    {
      "cell_type": "markdown",
      "source": [
        "## Step 4: Splitting the Dataset"
      ],
      "metadata": {
        "id": "iaP4eCGYtKmA"
      }
    },
    {
      "cell_type": "code",
      "source": [
        "# Splitting the dataset (80% training, 20% testing)\n",
        "X_train, X_test, y_train, y_test = train_test_split(df[['age']], df.bought_insurance, train_size=0.8, random_state=0)\n",
        "\n",
        "# Display the test set\n",
        "print(\"X_test:\\n\", X_test)\n"
      ],
      "metadata": {
        "colab": {
          "base_uri": "https://localhost:8080/"
        },
        "id": "HoUbpcolrfdH",
        "outputId": "8e7a1f9d-c54f-4c27-d1ae-00f623d3c99c"
      },
      "execution_count": 12,
      "outputs": [
        {
          "output_type": "stream",
          "name": "stdout",
          "text": [
            "X_test:\n",
            "     age\n",
            "2    47\n",
            "24   50\n",
            "14   49\n",
            "17   58\n",
            "5    56\n",
            "11   28\n"
          ]
        }
      ]
    },
    {
      "cell_type": "markdown",
      "source": [
        "## Step 5: Training the Logistic Regression Model"
      ],
      "metadata": {
        "id": "TKyrRGaKtPCP"
      }
    },
    {
      "cell_type": "code",
      "source": [
        "# Training the Logistic Regression model\n",
        "model = LogisticRegression()\n",
        "model.fit(X_train, y_train)\n",
        "\n",
        "# Display training completion message\n",
        "print(\"Logistic Regression Model Trained Successfully!\")\n"
      ],
      "metadata": {
        "colab": {
          "base_uri": "https://localhost:8080/"
        },
        "id": "amRW72qftM53",
        "outputId": "9ae2ae78-3ddb-45d3-e82d-647c41f05313"
      },
      "execution_count": 13,
      "outputs": [
        {
          "output_type": "stream",
          "name": "stdout",
          "text": [
            "Logistic Regression Model Trained Successfully!\n"
          ]
        }
      ]
    },
    {
      "cell_type": "markdown",
      "source": [
        "## Step 6: Making Predictions"
      ],
      "metadata": {
        "id": "kynGToBltS03"
      }
    },
    {
      "cell_type": "code",
      "source": [
        "# Predicting insurance purchase for test set\n",
        "y_predicted = model.predict(X_test)\n",
        "\n",
        "# Display predictions\n",
        "print(\"Predicted Insurance Purchase:\\n\", y_predicted)\n",
        "\n",
        "# Predicting probabilities\n",
        "probabilities = model.predict_proba(X_test)\n",
        "print(\"Prediction Probabilities:\\n\", probabilities)\n",
        "\n",
        "# Model Accuracy Score\n",
        "accuracy = model.score(X_test, y_test)\n",
        "print(\"Model Accuracy:\", accuracy)\n"
      ],
      "metadata": {
        "colab": {
          "base_uri": "https://localhost:8080/"
        },
        "id": "JKgM6sVFtRGH",
        "outputId": "1abdb55d-4afe-43b7-ed5f-03d22f33c686"
      },
      "execution_count": 14,
      "outputs": [
        {
          "output_type": "stream",
          "name": "stdout",
          "text": [
            "Predicted Insurance Purchase:\n",
            " [1 1 1 1 1 0]\n",
            "Prediction Probabilities:\n",
            " [[0.34030833 0.65969167]\n",
            " [0.26925593 0.73074407]\n",
            " [0.2918862  0.7081138 ]\n",
            " [0.13059794 0.86940206]\n",
            " [0.15824269 0.84175731]\n",
            " [0.81292397 0.18707603]]\n",
            "Model Accuracy: 1.0\n"
          ]
        }
      ]
    },
    {
      "cell_type": "markdown",
      "source": [
        "## Step 7: Understanding Model Parameters"
      ],
      "metadata": {
        "id": "-GnUpu06tYG_"
      }
    },
    {
      "cell_type": "code",
      "source": [
        "# Display model coefficients\n",
        "print(\"Model Coefficient (Slope):\", model.coef_[0][0])\n",
        "print(\"Model Intercept:\", model.intercept_[0])"
      ],
      "metadata": {
        "colab": {
          "base_uri": "https://localhost:8080/"
        },
        "id": "sPBPG28ztUyX",
        "outputId": "6955bf98-172a-4738-cebe-ab1095202ff8"
      },
      "execution_count": 15,
      "outputs": [
        {
          "output_type": "stream",
          "name": "stdout",
          "text": [
            "Model Coefficient (Slope): 0.11216015594818114\n",
            "Model Intercept: -4.6096068426922026\n"
          ]
        }
      ]
    },
    {
      "cell_type": "markdown",
      "source": [
        "## Step 8: Implementing the Sigmoid Function"
      ],
      "metadata": {
        "id": "SkONNqYmtctn"
      }
    },
    {
      "cell_type": "code",
      "source": [
        "# Sigmoid function\n",
        "def sigmoid(x):\n",
        "    return 1 / (1 + np.exp(-x))  # Using NumPy for better performance\n",
        "\n",
        "# Prediction function using manual logistic regression\n",
        "def prediction_function(age):\n",
        "    z = model.coef_[0][0] * age + model.intercept_[0]  # Using trained model parameters\n",
        "    y = sigmoid(z)\n",
        "    return y\n",
        "\n",
        "# Predict insurance purchase probability for specific ages\n",
        "ages = [35, 43]\n",
        "for age in ages:\n",
        "    print(f\"Probability of buying insurance at age {age}: {prediction_function(age):.4f}\")"
      ],
      "metadata": {
        "colab": {
          "base_uri": "https://localhost:8080/"
        },
        "id": "jwHEhAXEtag3",
        "outputId": "ab7c32c6-84c7-4365-d219-c954d0fe8683"
      },
      "execution_count": 16,
      "outputs": [
        {
          "output_type": "stream",
          "name": "stdout",
          "text": [
            "Probability of buying insurance at age 35: 0.3354\n",
            "Probability of buying insurance at age 43: 0.5531\n"
          ]
        }
      ]
    },
    {
      "cell_type": "markdown",
      "source": [
        "## Final Cleaned & Optimized Code"
      ],
      "metadata": {
        "id": "LQNelCPCthm3"
      }
    },
    {
      "cell_type": "code",
      "source": [
        "# Importing necessary libraries\n",
        "import pandas as pd\n",
        "import numpy as np\n",
        "import matplotlib.pyplot as plt\n",
        "from sklearn.model_selection import train_test_split\n",
        "from sklearn.linear_model import LogisticRegression\n",
        "import math\n",
        "\n",
        "# Load dataset\n",
        "df = pd.read_csv(\"https://raw.githubusercontent.com/aimlresearcher/Dataset-ML-Class/refs/heads/main/insurance_data.csv\")\n",
        "\n",
        "# Display dataset preview\n",
        "print(\"Dataset Preview:\\n\", df.head())\n",
        "\n",
        "# Plotting the data\n",
        "plt.scatter(df.age, df.bought_insurance, marker='+', color='red', label=\"Data Points\")\n",
        "plt.xlabel(\"Age\")\n",
        "plt.ylabel(\"Bought Insurance (0=No, 1=Yes)\")\n",
        "plt.title(\"Insurance Purchase Based on Age\")\n",
        "plt.legend()\n",
        "plt.show()\n",
        "\n",
        "# Splitting the dataset (80% training, 20% testing)\n",
        "X_train, X_test, y_train, y_test = train_test_split(df[['age']], df.bought_insurance, train_size=0.8, random_state=0)\n",
        "\n",
        "# Training the Logistic Regression model\n",
        "model = LogisticRegression()\n",
        "model.fit(X_train, y_train)\n",
        "print(\"Logistic Regression Model Trained Successfully!\")\n",
        "\n",
        "# Predicting insurance purchase for test set\n",
        "y_predicted = model.predict(X_test)\n",
        "print(\"Predicted Insurance Purchase:\\n\", y_predicted)\n",
        "\n",
        "# Predicting probabilities\n",
        "probabilities = model.predict_proba(X_test)\n",
        "print(\"Prediction Probabilities:\\n\", probabilities)\n",
        "\n",
        "# Model Accuracy Score\n",
        "accuracy = model.score(X_test, y_test)\n",
        "print(\"Model Accuracy:\", accuracy)\n",
        "\n",
        "# Display model coefficients\n",
        "print(\"Model Coefficient (Slope):\", model.coef_[0][0])\n",
        "print(\"Model Intercept:\", model.intercept_[0])\n",
        "\n",
        "# Sigmoid function\n",
        "def sigmoid(x):\n",
        "    return 1 / (1 + np.exp(-x))  # Using NumPy for better performance\n",
        "\n",
        "# Prediction function using manual logistic regression\n",
        "def prediction_function(age):\n",
        "    z = model.coef_[0][0] * age + model.intercept_[0]  # Using trained model parameters\n",
        "    y = sigmoid(z)\n",
        "    return y\n",
        "\n",
        "# Predict insurance purchase probability for specific ages\n",
        "ages = [35, 43]\n",
        "for age in ages:\n",
        "    print(f\"Probability of buying insurance at age {age}: {prediction_function(age):.4f}\")"
      ],
      "metadata": {
        "colab": {
          "base_uri": "https://localhost:8080/",
          "height": 854
        },
        "id": "J7wFaQi5tfN_",
        "outputId": "59a89510-e470-4450-e386-30c66ee03f15"
      },
      "execution_count": 18,
      "outputs": [
        {
          "output_type": "stream",
          "name": "stdout",
          "text": [
            "Dataset Preview:\n",
            "    age  bought_insurance\n",
            "0   22                 0\n",
            "1   25                 0\n",
            "2   47                 1\n",
            "3   52                 0\n",
            "4   46                 1\n"
          ]
        },
        {
          "output_type": "display_data",
          "data": {
            "text/plain": [
              "<Figure size 640x480 with 1 Axes>"
            ],
            "image/png": "[encoded data removed]"
          },
          "metadata": {}
        },
        {
          "output_type": "stream",
          "name": "stdout",
          "text": [
            "Logistic Regression Model Trained Successfully!\n",
            "Predicted Insurance Purchase:\n",
            " [1 1 1 1 1 0]\n",
            "Prediction Probabilities:\n",
            " [[0.34030833 0.65969167]\n",
            " [0.26925593 0.73074407]\n",
            " [0.2918862  0.7081138 ]\n",
            " [0.13059794 0.86940206]\n",
            " [0.15824269 0.84175731]\n",
            " [0.81292397 0.18707603]]\n",
            "Model Accuracy: 1.0\n",
            "Model Coefficient (Slope): 0.11216015594818114\n",
            "Model Intercept: -4.6096068426922026\n",
            "Probability of buying insurance at age 35: 0.3354\n",
            "Probability of buying insurance at age 43: 0.5531\n"
          ]
        }
      ]
    },
    {
      "cell_type": "code",
      "source": [],
      "metadata": {
        "id": "--Ltip9TtswH"
      },
      "execution_count": null,
      "outputs": []
    }
  ]
}