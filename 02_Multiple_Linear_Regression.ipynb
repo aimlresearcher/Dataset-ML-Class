{
  "nbformat": 4,
  "nbformat_minor": 0,
  "metadata": {
    "colab": {
      "provenance": [],
      "authorship_tag": "ABX9TyNp0cGfJ9udjs41P9tUx30s",
      "include_colab_link": true
    },
    "kernelspec": {
      "name": "python3",
      "display_name": "Python 3"
    },
    "language_info": {
      "name": "python"
    }
  },
  "cells": [
    {
      "cell_type": "markdown",
      "metadata": {
        "id": "view-in-github",
        "colab_type": "text"
      },
      "source": [
        "<a href=\"https://colab.research.google.com/github/aimlresearcher/Dataset-ML-Class/blob/main/02_Multiple_Linear_Regression.ipynb\" target=\"_parent\"><img src=\"https://colab.research.google.com/assets/colab-badge.svg\" alt=\"Open In Colab\"/></a>"
      ]
    },
    {
      "cell_type": "markdown",
      "source": [
        "## Step 1: Import Required Libraries"
      ],
      "metadata": {
        "id": "ccpqllF2n4lx"
      }
    },
    {
      "cell_type": "code",
      "execution_count": 1,
      "metadata": {
        "id": "pqbGV03fm5Yh"
      },
      "outputs": [],
      "source": [
        "import numpy as np\n",
        "import pandas as pd\n",
        "import matplotlib.pyplot as plt\n",
        "from sklearn.compose import ColumnTransformer\n",
        "from sklearn.preprocessing import OneHotEncoder\n",
        "from sklearn.model_selection import train_test_split\n",
        "from sklearn.linear_model import LinearRegression\n"
      ]
    },
    {
      "cell_type": "markdown",
      "source": [
        "## Step 2: Load the Dataset"
      ],
      "metadata": {
        "id": "4gFvlx4Bn9iY"
      }
    },
    {
      "cell_type": "code",
      "source": [
        "# Importing the dataset\n",
        "dataset = pd.read_csv(r'https://raw.githubusercontent.com/aimlresearcher/Dataset-ML-Class/refs/heads/main/50_Startups.csv')  # Use raw string for path\n",
        "\n",
        "# Separating Independent (X) and Dependent (y) Variables\n",
        "X = dataset.iloc[:, :-1].values  # Features (independent variables)\n",
        "y = dataset.iloc[:, -1].values   # Target variable (Profit)\n",
        "\n",
        "# Display first few rows of dataset (Optional)\n",
        "print(\"First 5 rows of dataset:\\n\", dataset.head())\n"
      ],
      "metadata": {
        "colab": {
          "base_uri": "https://localhost:8080/"
        },
        "id": "0o9_51fVn7b5",
        "outputId": "eae56e33-c283-4a86-9e74-10ac25ae8b1f"
      },
      "execution_count": 2,
      "outputs": [
        {
          "output_type": "stream",
          "name": "stdout",
          "text": [
            "First 5 rows of dataset:\n",
            "    R&D Spend  Administration  Marketing Spend       State     Profit\n",
            "0  165349.20       136897.80        471784.10    New York  192261.83\n",
            "1  162597.70       151377.59        443898.53  California  191792.06\n",
            "2  153441.51       101145.55        407934.54     Florida  191050.39\n",
            "3  144372.41       118671.85        383199.62    New York  182901.99\n",
            "4  142107.34        91391.77        366168.42     Florida  166187.94\n"
          ]
        }
      ]
    },
    {
      "cell_type": "markdown",
      "source": [
        "## Step 3: Encoding Categorical Data"
      ],
      "metadata": {
        "id": "11poSxCaoOvY"
      }
    },
    {
      "cell_type": "code",
      "source": [
        "# Encoding the 'State' categorical column (3rd column)\n",
        "ct = ColumnTransformer(transformers=[('encoder', OneHotEncoder(), [3])], remainder='passthrough')\n",
        "X = np.array(ct.fit_transform(X))  # Convert to NumPy array\n",
        "\n",
        "# Display first 5 rows after encoding (Optional)\n",
        "print(\"First 5 rows after OneHotEncoding:\\n\", X[:5])\n"
      ],
      "metadata": {
        "colab": {
          "base_uri": "https://localhost:8080/"
        },
        "id": "U_b2-owHoLNY",
        "outputId": "4a240cd3-75dd-409c-be5c-d3bc6e1dccfe"
      },
      "execution_count": 3,
      "outputs": [
        {
          "output_type": "stream",
          "name": "stdout",
          "text": [
            "First 5 rows after OneHotEncoding:\n",
            " [[0.0 0.0 1.0 165349.2 136897.8 471784.1]\n",
            " [1.0 0.0 0.0 162597.7 151377.59 443898.53]\n",
            " [0.0 1.0 0.0 153441.51 101145.55 407934.54]\n",
            " [0.0 0.0 1.0 144372.41 118671.85 383199.62]\n",
            " [0.0 1.0 0.0 142107.34 91391.77 366168.42]]\n"
          ]
        }
      ]
    },
    {
      "cell_type": "markdown",
      "source": [
        "## Step 4: Splitting the Dataset"
      ],
      "metadata": {
        "id": "NI-vzEvRoYLA"
      }
    },
    {
      "cell_type": "code",
      "source": [
        "# Splitting the dataset into Training and Test sets (80% training, 20% testing)\n",
        "X_train, X_test, y_train, y_test = train_test_split(X, y, test_size=0.2, random_state=0)\n",
        "\n",
        "# Display dataset shapes (Optional)\n",
        "print(\"X_train shape:\", X_train.shape)\n",
        "print(\"X_test shape:\", X_test.shape)\n",
        "print(\"y_train shape:\", y_train.shape)\n",
        "print(\"y_test shape:\", y_test.shape)\n"
      ],
      "metadata": {
        "colab": {
          "base_uri": "https://localhost:8080/"
        },
        "id": "nbt81zqaoRAI",
        "outputId": "8f6f8f96-4519-44d7-eb4c-1f523153c86e"
      },
      "execution_count": 4,
      "outputs": [
        {
          "output_type": "stream",
          "name": "stdout",
          "text": [
            "X_train shape: (40, 6)\n",
            "X_test shape: (10, 6)\n",
            "y_train shape: (40,)\n",
            "y_test shape: (10,)\n"
          ]
        }
      ]
    },
    {
      "cell_type": "markdown",
      "source": [
        "## Step 5: Training the Multiple Linear Regression Model"
      ],
      "metadata": {
        "id": "1SDPRb3WodnY"
      }
    },
    {
      "cell_type": "code",
      "source": [
        "# Training the Multiple Linear Regression Model\n",
        "regressor = LinearRegression()\n",
        "regressor.fit(X_train, y_train)\n",
        "\n",
        "# Print model coefficients\n",
        "print(\"Model Coefficients:\", regressor.coef_)\n",
        "print(\"Model Intercept:\", regressor.intercept_)\n"
      ],
      "metadata": {
        "colab": {
          "base_uri": "https://localhost:8080/"
        },
        "id": "I_eEY-vGobA4",
        "outputId": "2db11f39-aff4-4666-f711-ac391013a6ec"
      },
      "execution_count": 5,
      "outputs": [
        {
          "output_type": "stream",
          "name": "stdout",
          "text": [
            "Model Coefficients: [ 8.66383692e+01 -8.72645791e+02  7.86007422e+02  7.73467193e-01\n",
            "  3.28845975e-02  3.66100259e-02]\n",
            "Model Intercept: 42467.52924853278\n"
          ]
        }
      ]
    },
    {
      "cell_type": "markdown",
      "source": [
        "## Step 6: Predicting the Test Set Results"
      ],
      "metadata": {
        "id": "yD-rxrLookHo"
      }
    },
    {
      "cell_type": "code",
      "source": [
        "# Predicting the Test Set Results\n",
        "y_pred = regressor.predict(X_test)\n",
        "\n",
        "# Setting NumPy print options for better readability\n",
        "np.set_printoptions(precision=2)\n",
        "\n",
        "# Comparing actual vs predicted values\n",
        "results = np.concatenate((y_pred.reshape(len(y_pred), 1), y_test.reshape(len(y_test), 1)), axis=1)\n",
        "print(\"Predicted vs Actual Profits:\\n\", results)\n"
      ],
      "metadata": {
        "colab": {
          "base_uri": "https://localhost:8080/"
        },
        "id": "g7SCSUA-ohQQ",
        "outputId": "c5f9e43a-205d-46b5-880c-7ecb10776fc9"
      },
      "execution_count": 6,
      "outputs": [
        {
          "output_type": "stream",
          "name": "stdout",
          "text": [
            "Predicted vs Actual Profits:\n",
            " [[103015.2  103282.38]\n",
            " [132582.28 144259.4 ]\n",
            " [132447.74 146121.95]\n",
            " [ 71976.1   77798.83]\n",
            " [178537.48 191050.39]\n",
            " [116161.24 105008.31]\n",
            " [ 67851.69  81229.06]\n",
            " [ 98791.73  97483.56]\n",
            " [113969.44 110352.25]\n",
            " [167921.07 166187.94]]\n"
          ]
        }
      ]
    },
    {
      "cell_type": "markdown",
      "source": [
        "## Bonus: Visualizing the Results"
      ],
      "metadata": {
        "id": "mfLQORZYoomY"
      }
    },
    {
      "cell_type": "code",
      "source": [
        "# Visualizing the Predictions vs Actual Profits\n",
        "plt.scatter(range(len(y_test)), y_test, color='red', label='Actual Profit')\n",
        "plt.scatter(range(len(y_pred)), y_pred, color='blue', label='Predicted Profit')\n",
        "plt.title(\"Actual vs Predicted Profit\")\n",
        "plt.xlabel(\"Test Samples\")\n",
        "plt.ylabel(\"Profit\")\n",
        "plt.legend()\n",
        "plt.show()\n"
      ],
      "metadata": {
        "colab": {
          "base_uri": "https://localhost:8080/",
          "height": 472
        },
        "id": "gz1zxT2JommI",
        "outputId": "da8d4b73-2065-44c5-ce99-d794c530e480"
      },
      "execution_count": 7,
      "outputs": [
        {
          "output_type": "display_data",
          "data": {
            "text/plain": [
              "<Figure size 640x480 with 1 Axes>"
            ],
            "image/png": "[encoded data removed]"
          },
          "metadata": {}
        }
      ]
    },
    {
      "cell_type": "markdown",
      "source": [
        "## Final Cleaned & Optimized Code"
      ],
      "metadata": {
        "id": "d6D-27nWoxEI"
      }
    },
    {
      "cell_type": "code",
      "source": [
        "# Importing necessary libraries\n",
        "import numpy as np\n",
        "import pandas as pd\n",
        "import matplotlib.pyplot as plt\n",
        "from sklearn.compose import ColumnTransformer\n",
        "from sklearn.preprocessing import OneHotEncoder\n",
        "from sklearn.model_selection import train_test_split\n",
        "from sklearn.linear_model import LinearRegression\n",
        "\n",
        "# Importing the dataset\n",
        "dataset = pd.read_csv(r'https://raw.githubusercontent.com/aimlresearcher/Dataset-ML-Class/refs/heads/main/50_Startups.csv')\n",
        "\n",
        "# Separating Independent and Dependent Variables\n",
        "X = dataset.iloc[:, :-1].values  # Features\n",
        "y = dataset.iloc[:, -1].values   # Target variable (Profit)\n",
        "\n",
        "# Encoding categorical data (State column)\n",
        "ct = ColumnTransformer(transformers=[('encoder', OneHotEncoder(), [3])], remainder='passthrough')\n",
        "X = np.array(ct.fit_transform(X))\n",
        "\n",
        "# Splitting the dataset into Training and Test sets (80% train, 20% test)\n",
        "X_train, X_test, y_train, y_test = train_test_split(X, y, test_size=0.2, random_state=0)\n",
        "\n",
        "# Training the Multiple Linear Regression Model\n",
        "regressor = LinearRegression()\n",
        "regressor.fit(X_train, y_train)\n",
        "\n",
        "# Printing model coefficients and intercept\n",
        "print(\"Model Coefficients:\", regressor.coef_)\n",
        "print(\"Model Intercept:\", regressor.intercept_)\n",
        "\n",
        "# Predicting the Test Set Results\n",
        "y_pred = regressor.predict(X_test)\n",
        "\n",
        "# Setting NumPy print options for readability\n",
        "np.set_printoptions(precision=2)\n",
        "\n",
        "# Comparing actual vs predicted values\n",
        "results = np.concatenate((y_pred.reshape(len(y_pred), 1), y_test.reshape(len(y_test), 1)), axis=1)\n",
        "print(\"Predicted vs Actual Profits:\\n\", results)\n",
        "\n",
        "# Visualizing the Predictions vs Actual Profits\n",
        "plt.scatter(range(len(y_test)), y_test, color='red', label='Actual Profit')\n",
        "plt.scatter(range(len(y_pred)), y_pred, color='blue', label='Predicted Profit')\n",
        "plt.title(\"Actual vs Predicted Profit\")\n",
        "plt.xlabel(\"Test Samples\")\n",
        "plt.ylabel(\"Profit\")\n",
        "plt.legend()\n",
        "plt.show()"
      ],
      "metadata": {
        "colab": {
          "base_uri": "https://localhost:8080/",
          "height": 698
        },
        "id": "DxvMYUmborJQ",
        "outputId": "7044cffb-4c03-4c35-eaf0-66463cb71465"
      },
      "execution_count": 9,
      "outputs": [
        {
          "output_type": "stream",
          "name": "stdout",
          "text": [
            "Model Coefficients: [ 8.66e+01 -8.73e+02  7.86e+02  7.73e-01  3.29e-02  3.66e-02]\n",
            "Model Intercept: 42467.52924853278\n",
            "Predicted vs Actual Profits:\n",
            " [[103015.2  103282.38]\n",
            " [132582.28 144259.4 ]\n",
            " [132447.74 146121.95]\n",
            " [ 71976.1   77798.83]\n",
            " [178537.48 191050.39]\n",
            " [116161.24 105008.31]\n",
            " [ 67851.69  81229.06]\n",
            " [ 98791.73  97483.56]\n",
            " [113969.44 110352.25]\n",
            " [167921.07 166187.94]]\n"
          ]
        },
        {
          "output_type": "display_data",
          "data": {
            "text/plain": [
              "<Figure size 640x480 with 1 Axes>"
            ],
            "image/png": "[encoded data removed]"
          },
          "metadata": {}
        }
      ]
    },
    {
      "cell_type": "code",
      "source": [],
      "metadata": {
        "id": "gm8d4MNXozhY"
      },
      "execution_count": null,
      "outputs": []
    }
  ]
}